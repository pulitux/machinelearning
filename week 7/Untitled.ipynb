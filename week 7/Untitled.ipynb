{
 "cells": [
  {
   "cell_type": "code",
   "execution_count": 4,
   "id": "638fb3e4-6c30-4c3d-9386-0c150b14008c",
   "metadata": {},
   "outputs": [
    {
     "name": "stdout",
     "output_type": "stream",
     "text": [
      "A =\n",
      "\n",
      "   64    2    3   61   60    6    7   57\n",
      "    9   55   54   12   13   51   50   16\n",
      "   17   47   46   20   21   43   42   24\n",
      "   40   26   27   37   36   30   31   33\n",
      "   32   34   35   29   28   38   39   25\n",
      "   41   23   22   44   45   19   18   48\n",
      "   49   15   14   52   53   11   10   56\n",
      "    8   58   59    5    4   62   63    1\n",
      "\n"
     ]
    }
   ],
   "source": [
    "A = magic(8)\n",
    "save('-ascii', 'pltxjupyter.txt', 'A');"
   ]
  },
  {
   "cell_type": "code",
   "execution_count": null,
   "id": "5955215a-f8cf-4811-a63f-2d4ada4ad1e9",
   "metadata": {},
   "outputs": [],
   "source": []
  }
 ],
 "metadata": {
  "kernelspec": {
   "display_name": "Octave",
   "language": "octave",
   "name": "octave"
  },
  "language_info": {
   "file_extension": ".m",
   "help_links": [
    {
     "text": "GNU Octave",
     "url": "https://www.gnu.org/software/octave/support.html"
    },
    {
     "text": "Octave Kernel",
     "url": "https://github.com/Calysto/octave_kernel"
    },
    {
     "text": "MetaKernel Magics",
     "url": "https://metakernel.readthedocs.io/en/latest/source/README.html"
    }
   ],
   "mimetype": "text/x-octave",
   "name": "octave",
   "version": "5.2.0"
  }
 },
 "nbformat": 4,
 "nbformat_minor": 5
}
